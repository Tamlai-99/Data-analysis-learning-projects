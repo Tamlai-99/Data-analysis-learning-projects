{
 "cells": [
  {
   "cell_type": "markdown",
   "metadata": {},
   "source": [
    "# Data cleaning projects"
   ]
  },
  {
   "cell_type": "code",
   "execution_count": 128,
   "metadata": {},
   "outputs": [],
   "source": [
    "import pandas as pd"
   ]
  },
  {
   "cell_type": "code",
   "execution_count": 129,
   "metadata": {},
   "outputs": [
    {
     "name": "stderr",
     "output_type": "stream",
     "text": [
      "C:\\Users\\tamla_f1yewqh\\AppData\\Local\\Temp\\ipykernel_18312\\1654123833.py:1: DtypeWarning: Columns (69) have mixed types. Specify dtype option on import or set low_memory=False.\n",
      "  listing = pd.read_csv(r'C:\\Users\\tamla_f1yewqh\\OneDrive\\Desktop\\Python\\Projects\\Airbnb\\Dataload\\listings.csv')\n"
     ]
    }
   ],
   "source": [
    "listing = pd.read_csv(r'C:\\Users\\tamla_f1yewqh\\OneDrive\\Desktop\\Python\\Projects\\Airbnb\\Dataload\\listings.csv')"
   ]
  },
  {
   "cell_type": "markdown",
   "metadata": {},
   "source": [
    "## Clean listing data"
   ]
  },
  {
   "cell_type": "markdown",
   "metadata": {},
   "source": [
    "### Setting requirements"
   ]
  },
  {
   "cell_type": "code",
   "execution_count": null,
   "metadata": {},
   "outputs": [],
   "source": [
    "# pd.set_option('display.max_columns', None)\n",
    "# pd.set_option('display.max_rows', None)"
   ]
  },
  {
   "cell_type": "markdown",
   "metadata": {},
   "source": [
    "- [x] get rid of unnecessary columns\n",
    "  \n",
    "A- Price factors:\n",
    "  - [x] facitlity: property_type, room_type, accomodates, bathrooms, bathrooms text, bedrooms, beds, amenities, price\n",
    "  - [x] location: latitde, longitude, neighbourhood_cleanse,\n",
    "  - [x] time: calendar factors\n",
    "  \n",
    "\n",
    "B- Occupancy rate: \n",
    "  - [x] location, time, price factors\n",
    "  - [x] occupancy metrics: availability, minimum/ maximum night, \n",
    "  - [x] host factors: check host_location, convert host_since/ response time/ response rate/ acceptance rate/ superhost to suitable data types\n",
    "  - [ ] review related: keep all review column in listing, and count the number of review for each listing in review data\n",
    "\n",
    "C- Other:\n",
    "  - [x] Outliers check\n",
    "  - [x] Handle null values"
   ]
  },
  {
   "cell_type": "code",
   "execution_count": 130,
   "metadata": {},
   "outputs": [],
   "source": [
    "col_to_drop = ['Unnamed: 0','neighbourhood_group_cleansed', 'listing_url', 'scrape_id', \n",
    "                'last_scraped','source', 'description','neighborhood_overview', 'picture_url',\n",
    "                'host_url','host_thumbnail_url','host_picture_url', 'host_neighbourhood', \n",
    "                'host_listings_count', 'host_total_listings_count', 'neighbourhood', \n",
    "                'minimum_minimum_nights', 'maximum_minimum_nights','minimum_maximum_nights', \n",
    "                'maximum_maximum_nights','minimum_nights_avg_ntm','maximum_nights_avg_ntm', \n",
    "                'calendar_updated', 'calendar_last_scraped','first_review',\n",
    "                'last_review','license', 'calculated_host_listings_count',\n",
    "                'calculated_host_listings_count_entire_homes',\n",
    "                'calculated_host_listings_count_private_rooms', \n",
    "                'calculated_host_listings_count_shared_rooms']"
   ]
  },
  {
   "cell_type": "code",
   "execution_count": 131,
   "metadata": {},
   "outputs": [],
   "source": [
    "df_listing = listing.drop(col_to_drop, axis = 1)"
   ]
  },
  {
   "cell_type": "code",
   "execution_count": null,
   "metadata": {},
   "outputs": [],
   "source": [
    "df_listing.info()"
   ]
  },
  {
   "cell_type": "markdown",
   "metadata": {},
   "source": [
    "### Clean data related to price factors"
   ]
  },
  {
   "cell_type": "code",
   "execution_count": 132,
   "metadata": {},
   "outputs": [
    {
     "data": {
      "text/plain": [
       "room_type\n",
       "Entire home/apt    14736\n",
       "Hotel room           458\n",
       "Private room        7931\n",
       "Shared room          526\n",
       "Name: id, dtype: int64"
      ]
     },
     "execution_count": 132,
     "metadata": {},
     "output_type": "execute_result"
    }
   ],
   "source": [
    "#checking format of property_type, room_type, accommodates\n",
    "df_listing.groupby('room_type').count()['id']"
   ]
  },
  {
   "cell_type": "code",
   "execution_count": null,
   "metadata": {},
   "outputs": [],
   "source": [
    "df_listing.groupby('property_type').count()['id']"
   ]
  },
  {
   "cell_type": "code",
   "execution_count": 134,
   "metadata": {},
   "outputs": [
    {
     "data": {
      "text/plain": [
       "accommodates\n",
       "1      840\n",
       "2    13634\n",
       "3     2685\n",
       "4     3327\n",
       "5      744\n",
       "Name: id, dtype: int64"
      ]
     },
     "execution_count": 134,
     "metadata": {},
     "output_type": "execute_result"
    }
   ],
   "source": [
    "df_listing.groupby('accommodates').count()['id'].head(5)"
   ]
  },
  {
   "cell_type": "code",
   "execution_count": 135,
   "metadata": {},
   "outputs": [
    {
     "data": {
      "text/plain": [
       "4642"
      ]
     },
     "execution_count": 135,
     "metadata": {},
     "output_type": "execute_result"
    }
   ],
   "source": [
    "# bathrooms na values\n",
    "df_listing['bathrooms'].isna().sum()"
   ]
  },
  {
   "cell_type": "code",
   "execution_count": 136,
   "metadata": {},
   "outputs": [
    {
     "data": {
      "text/plain": [
       "4642"
      ]
     },
     "execution_count": 136,
     "metadata": {},
     "output_type": "execute_result"
    }
   ],
   "source": [
    "# checking if the bathrooms text can fill the na in bathrooms\n",
    "len(df_listing[df_listing['bathrooms'].isna()][['bathrooms','bathrooms_text']])"
   ]
  },
  {
   "cell_type": "code",
   "execution_count": 137,
   "metadata": {},
   "outputs": [
    {
     "data": {
      "text/html": [
       "<div>\n",
       "<style scoped>\n",
       "    .dataframe tbody tr th:only-of-type {\n",
       "        vertical-align: middle;\n",
       "    }\n",
       "\n",
       "    .dataframe tbody tr th {\n",
       "        vertical-align: top;\n",
       "    }\n",
       "\n",
       "    .dataframe thead th {\n",
       "        text-align: right;\n",
       "    }\n",
       "</style>\n",
       "<table border=\"1\" class=\"dataframe\">\n",
       "  <thead>\n",
       "    <tr style=\"text-align: right;\">\n",
       "      <th></th>\n",
       "      <th>bathrooms</th>\n",
       "      <th>bathrooms_text</th>\n",
       "    </tr>\n",
       "  </thead>\n",
       "  <tbody>\n",
       "    <tr>\n",
       "      <th>1</th>\n",
       "      <td>NaN</td>\n",
       "      <td>1 bath</td>\n",
       "    </tr>\n",
       "    <tr>\n",
       "      <th>2</th>\n",
       "      <td>NaN</td>\n",
       "      <td>1 bath</td>\n",
       "    </tr>\n",
       "    <tr>\n",
       "      <th>8</th>\n",
       "      <td>NaN</td>\n",
       "      <td>1 bath</td>\n",
       "    </tr>\n",
       "    <tr>\n",
       "      <th>15</th>\n",
       "      <td>NaN</td>\n",
       "      <td>4 baths</td>\n",
       "    </tr>\n",
       "    <tr>\n",
       "      <th>17</th>\n",
       "      <td>NaN</td>\n",
       "      <td>1 bath</td>\n",
       "    </tr>\n",
       "  </tbody>\n",
       "</table>\n",
       "</div>"
      ],
      "text/plain": [
       "    bathrooms bathrooms_text\n",
       "1         NaN         1 bath\n",
       "2         NaN         1 bath\n",
       "8         NaN         1 bath\n",
       "15        NaN        4 baths\n",
       "17        NaN         1 bath"
      ]
     },
     "execution_count": 137,
     "metadata": {},
     "output_type": "execute_result"
    }
   ],
   "source": [
    "# compared null value with bathroom_text\n",
    "df_listing[df_listing['bathrooms'].isna()][['bathrooms','bathrooms_text']].head(5)"
   ]
  },
  {
   "cell_type": "code",
   "execution_count": 138,
   "metadata": {},
   "outputs": [
    {
     "data": {
      "text/html": [
       "<div>\n",
       "<style scoped>\n",
       "    .dataframe tbody tr th:only-of-type {\n",
       "        vertical-align: middle;\n",
       "    }\n",
       "\n",
       "    .dataframe tbody tr th {\n",
       "        vertical-align: top;\n",
       "    }\n",
       "\n",
       "    .dataframe thead th {\n",
       "        text-align: right;\n",
       "    }\n",
       "</style>\n",
       "<table border=\"1\" class=\"dataframe\">\n",
       "  <thead>\n",
       "    <tr style=\"text-align: right;\">\n",
       "      <th></th>\n",
       "      <th>bathrooms</th>\n",
       "      <th>bath</th>\n",
       "    </tr>\n",
       "  </thead>\n",
       "  <tbody>\n",
       "    <tr>\n",
       "      <th>0</th>\n",
       "      <td>1.5</td>\n",
       "      <td>1.5</td>\n",
       "    </tr>\n",
       "    <tr>\n",
       "      <th>1</th>\n",
       "      <td>1.0</td>\n",
       "      <td>1.0</td>\n",
       "    </tr>\n",
       "    <tr>\n",
       "      <th>2</th>\n",
       "      <td>1 bath</td>\n",
       "      <td>1</td>\n",
       "    </tr>\n",
       "    <tr>\n",
       "      <th>3</th>\n",
       "      <td>1.5 shared bath</td>\n",
       "      <td>1.5</td>\n",
       "    </tr>\n",
       "  </tbody>\n",
       "</table>\n",
       "</div>"
      ],
      "text/plain": [
       "         bathrooms bath\n",
       "0              1.5  1.5\n",
       "1              1.0  1.0\n",
       "2           1 bath    1\n",
       "3  1.5 shared bath  1.5"
      ]
     },
     "execution_count": 138,
     "metadata": {},
     "output_type": "execute_result"
    }
   ],
   "source": [
    "# testing samples\n",
    "sample = pd.DataFrame(['1.5','1.0', '1 bath','1.5 shared bath'], columns=['bathrooms'])\n",
    "sample['bath'] = sample['bathrooms'].str.split(' ',expand=True)[0]\n",
    "sample"
   ]
  },
  {
   "cell_type": "code",
   "execution_count": 139,
   "metadata": {},
   "outputs": [],
   "source": [
    "#convert value on bathrooms text to number\n",
    "df_listing['bathrooms_text'] = df_listing['bathrooms_text'].str.split(' ',expand=True)[0]"
   ]
  },
  {
   "cell_type": "code",
   "execution_count": 140,
   "metadata": {},
   "outputs": [],
   "source": [
    "# fillna in bathrooms with bathrooms text value\n",
    "df_listing['bathrooms'] = df_listing['bathrooms'].fillna(df_listing['bathrooms_text'])"
   ]
  },
  {
   "cell_type": "code",
   "execution_count": 141,
   "metadata": {},
   "outputs": [],
   "source": [
    "# clean and transform type of bathrooms column\n",
    "df_listing['bathrooms'] = pd.to_numeric(df_listing['bathrooms'], errors='coerce')"
   ]
  },
  {
   "cell_type": "code",
   "execution_count": 142,
   "metadata": {},
   "outputs": [
    {
     "data": {
      "text/plain": [
       "85"
      ]
     },
     "execution_count": 142,
     "metadata": {},
     "output_type": "execute_result"
    }
   ],
   "source": [
    "# check the how many na value left\n",
    "df_listing['bathrooms'].isna().sum()"
   ]
  },
  {
   "cell_type": "code",
   "execution_count": null,
   "metadata": {},
   "outputs": [],
   "source": [
    "# checking amenities\n",
    "df_listing['amenities'].sample(10)"
   ]
  },
  {
   "cell_type": "code",
   "execution_count": 144,
   "metadata": {},
   "outputs": [],
   "source": [
    "# clean format\n",
    "df_listing['amenities'] = df_listing['amenities'].apply(lambda x: x.replace('[','').replace(']','').replace('\"','').replace(' ,',',').replace(', ',',').split(','))"
   ]
  },
  {
   "cell_type": "code",
   "execution_count": 145,
   "metadata": {},
   "outputs": [],
   "source": [
    "# adding the number of amenities\n",
    "df_listing['amenities_count'] = df_listing['amenities'].apply(len)"
   ]
  },
  {
   "cell_type": "code",
   "execution_count": null,
   "metadata": {},
   "outputs": [],
   "source": [
    "# clean price column. The currency is local currency (baht)\n",
    "df_listing['price'].head(10)"
   ]
  },
  {
   "cell_type": "code",
   "execution_count": 147,
   "metadata": {},
   "outputs": [],
   "source": [
    "df_listing['price_baht'] = df_listing['price'].str.replace('$','')\n",
    "df_listing['price_baht'] = df_listing['price_baht'].str.replace(',','')\n",
    "df_listing['price_baht'] = df_listing['price_baht'].str.replace('.00','')\n",
    "df_listing['price_baht'] = pd.to_numeric(df_listing['price_baht'])"
   ]
  },
  {
   "cell_type": "markdown",
   "metadata": {},
   "source": [
    "### Clean location/host/review factors"
   ]
  },
  {
   "cell_type": "code",
   "execution_count": null,
   "metadata": {},
   "outputs": [],
   "source": [
    "# checking neighborhood format. The format seem to be good, no need further edit\n",
    "df_listing.groupby('neighbourhood_cleansed').count()['id']"
   ]
  },
  {
   "cell_type": "code",
   "execution_count": null,
   "metadata": {},
   "outputs": [],
   "source": [
    "# host factors: host_since convert to datetime, check lost_location, convert response time/ response rate/ acceptance rate/ superhost to suitable data types\n",
    "df_listing.groupby('host_location').count()['id']"
   ]
  },
  {
   "cell_type": "code",
   "execution_count": 150,
   "metadata": {},
   "outputs": [
    {
     "data": {
      "text/plain": [
       "14626"
      ]
     },
     "execution_count": 150,
     "metadata": {},
     "output_type": "execute_result"
    }
   ],
   "source": [
    "# how many host are located in Bangkok\n",
    "len(df_listing[df_listing['host_location'].str.contains(r'Bangkok') == True])"
   ]
  },
  {
   "cell_type": "code",
   "execution_count": 151,
   "metadata": {},
   "outputs": [],
   "source": [
    "# convert the host since into date time\n",
    "df_listing['host_since'] = pd.to_datetime(df_listing['host_since'], errors='coerce')"
   ]
  },
  {
   "cell_type": "code",
   "execution_count": null,
   "metadata": {},
   "outputs": [],
   "source": [
    "# checking host_response time\n",
    "df_listing.groupby('host_response_time').count()['id']"
   ]
  },
  {
   "cell_type": "code",
   "execution_count": 153,
   "metadata": {},
   "outputs": [],
   "source": [
    "# checking response rate: remove % sign and convert to numeric\n",
    "df_listing['host_response_percent'] = pd.to_numeric(df_listing['host_response_rate'].str.replace('%',''))"
   ]
  },
  {
   "cell_type": "code",
   "execution_count": 154,
   "metadata": {},
   "outputs": [],
   "source": [
    "# checking host acceptance rate\n",
    "df_listing['host_acceptance_percent'] = pd.to_numeric(df_listing['host_acceptance_rate'].str.replace('%',''))"
   ]
  },
  {
   "cell_type": "code",
   "execution_count": null,
   "metadata": {},
   "outputs": [],
   "source": [
    "#convert boolean type \n",
    "df_listing['host_is_superhost'].astype('bool')\n",
    "df_listing['host_identity_verified'].astype('bool')\n",
    "df_listing['host_has_profile_pic'].astype('bool')\n",
    "df_listing['instant_bookable'].astype('bool')\n",
    "df_listing['host_has_profile_pic'].astype('bool')"
   ]
  },
  {
   "cell_type": "code",
   "execution_count": null,
   "metadata": {},
   "outputs": [],
   "source": [
    "# recheck columns and drop unncessary columns\n",
    "df_listing.info()"
   ]
  },
  {
   "cell_type": "code",
   "execution_count": 157,
   "metadata": {},
   "outputs": [],
   "source": [
    "col_to_drop2 = ['host_location', 'host_about', 'host_response_time', 'host_acceptance_rate', 'bathrooms_text', 'price','host_response_rate','host_verifications']"
   ]
  },
  {
   "cell_type": "code",
   "execution_count": 158,
   "metadata": {},
   "outputs": [],
   "source": [
    "df_listing = df_listing.drop(col_to_drop2, axis =1)"
   ]
  },
  {
   "cell_type": "code",
   "execution_count": null,
   "metadata": {},
   "outputs": [],
   "source": [
    "df_listing.info()"
   ]
  },
  {
   "cell_type": "markdown",
   "metadata": {},
   "source": [
    "### Handle missing values/ outliers"
   ]
  },
  {
   "cell_type": "code",
   "execution_count": null,
   "metadata": {},
   "outputs": [],
   "source": [
    "# outliers detection: accommodates, rooms, beds, price \n",
    "df_listing.groupby('accommodates').count()['id'] # there seem no outliers in range of accomodates"
   ]
  },
  {
   "cell_type": "code",
   "execution_count": null,
   "metadata": {},
   "outputs": [],
   "source": [
    "# checking outliers for bedrooms\n",
    "df_listing.groupby('bedrooms').count()['id'].sort_values(ascending=False) "
   ]
  },
  {
   "cell_type": "code",
   "execution_count": null,
   "metadata": {},
   "outputs": [],
   "source": [
    "# check what kind of listing has 0 bedrooms.\n",
    "df_listing[df_listing['bedrooms'] == 0][['beds','bedrooms','property_type']].sample(10)"
   ]
  },
  {
   "cell_type": "code",
   "execution_count": 163,
   "metadata": {},
   "outputs": [
    {
     "data": {
      "text/plain": [
       "872"
      ]
     },
     "execution_count": 163,
     "metadata": {},
     "output_type": "execute_result"
    }
   ],
   "source": [
    "# check 0 bedrooms case and compare to beds not 0\n",
    "len(df_listing[(df_listing['bedrooms'] == 0) & (df_listing['beds'] != 0)])"
   ]
  },
  {
   "cell_type": "code",
   "execution_count": 164,
   "metadata": {},
   "outputs": [
    {
     "data": {
      "text/plain": [
       "1.069291448031414"
      ]
     },
     "execution_count": 164,
     "metadata": {},
     "output_type": "execute_result"
    }
   ],
   "source": [
    "# question: should the 0 bedrooms value be fill with the beds value assuming 1 bed = 1 bedroom. If so, what is the average bed per bedroom\n",
    "bed_num = df_listing[(df_listing['beds'] != 0) & (df_listing['bedrooms'] != 0)]['beds'].sum()\n",
    "bedroom_num = df_listing[(df_listing['beds'] != 0) & (df_listing['bedrooms'] != 0)]['bedrooms'].sum()\n",
    "bed_num/bedroom_num "
   ]
  },
  {
   "cell_type": "code",
   "execution_count": 165,
   "metadata": {},
   "outputs": [],
   "source": [
    "# since the average beds per bedroom is nearly 01, the 0 number of bedrooms col can get replace with non-zero in beds col\n",
    "df_listing['bedrooms'] = df_listing.apply(lambda x: x['beds'] if x['bedrooms'] == 0 else x['bedrooms'], axis = 1 )"
   ]
  },
  {
   "cell_type": "code",
   "execution_count": 166,
   "metadata": {},
   "outputs": [
    {
     "data": {
      "text/plain": [
       "60"
      ]
     },
     "execution_count": 166,
     "metadata": {},
     "output_type": "execute_result"
    }
   ],
   "source": [
    "# check the number of 0 bedrooms left\n",
    "len(df_listing[df_listing['bedrooms'] == 0])"
   ]
  },
  {
   "cell_type": "code",
   "execution_count": 167,
   "metadata": {},
   "outputs": [
    {
     "data": {
      "text/plain": [
       "4639"
      ]
     },
     "execution_count": 167,
     "metadata": {},
     "output_type": "execute_result"
    }
   ],
   "source": [
    "# number of listing with null price (does not list their price)\n",
    "df_listing['price_baht'].isna().sum()"
   ]
  },
  {
   "cell_type": "code",
   "execution_count": 169,
   "metadata": {},
   "outputs": [
    {
     "data": {
      "text/html": [
       "<div>\n",
       "<style scoped>\n",
       "    .dataframe tbody tr th:only-of-type {\n",
       "        vertical-align: middle;\n",
       "    }\n",
       "\n",
       "    .dataframe tbody tr th {\n",
       "        vertical-align: top;\n",
       "    }\n",
       "\n",
       "    .dataframe thead th {\n",
       "        text-align: right;\n",
       "    }\n",
       "</style>\n",
       "<table border=\"1\" class=\"dataframe\">\n",
       "  <thead>\n",
       "    <tr style=\"text-align: right;\">\n",
       "      <th></th>\n",
       "      <th>availability_30</th>\n",
       "      <th>availability_60</th>\n",
       "      <th>availability_90</th>\n",
       "      <th>availability_365</th>\n",
       "      <th>host_acceptance_percent</th>\n",
       "    </tr>\n",
       "  </thead>\n",
       "  <tbody>\n",
       "    <tr>\n",
       "      <th>213</th>\n",
       "      <td>0</td>\n",
       "      <td>0</td>\n",
       "      <td>0</td>\n",
       "      <td>0</td>\n",
       "      <td>NaN</td>\n",
       "    </tr>\n",
       "    <tr>\n",
       "      <th>11808</th>\n",
       "      <td>0</td>\n",
       "      <td>0</td>\n",
       "      <td>0</td>\n",
       "      <td>0</td>\n",
       "      <td>NaN</td>\n",
       "    </tr>\n",
       "    <tr>\n",
       "      <th>11691</th>\n",
       "      <td>0</td>\n",
       "      <td>0</td>\n",
       "      <td>0</td>\n",
       "      <td>0</td>\n",
       "      <td>99.0</td>\n",
       "    </tr>\n",
       "    <tr>\n",
       "      <th>16766</th>\n",
       "      <td>30</td>\n",
       "      <td>60</td>\n",
       "      <td>90</td>\n",
       "      <td>270</td>\n",
       "      <td>96.0</td>\n",
       "    </tr>\n",
       "    <tr>\n",
       "      <th>4811</th>\n",
       "      <td>12</td>\n",
       "      <td>42</td>\n",
       "      <td>72</td>\n",
       "      <td>73</td>\n",
       "      <td>NaN</td>\n",
       "    </tr>\n",
       "    <tr>\n",
       "      <th>2254</th>\n",
       "      <td>0</td>\n",
       "      <td>0</td>\n",
       "      <td>0</td>\n",
       "      <td>0</td>\n",
       "      <td>NaN</td>\n",
       "    </tr>\n",
       "    <tr>\n",
       "      <th>3699</th>\n",
       "      <td>0</td>\n",
       "      <td>0</td>\n",
       "      <td>0</td>\n",
       "      <td>0</td>\n",
       "      <td>NaN</td>\n",
       "    </tr>\n",
       "    <tr>\n",
       "      <th>7484</th>\n",
       "      <td>0</td>\n",
       "      <td>0</td>\n",
       "      <td>0</td>\n",
       "      <td>0</td>\n",
       "      <td>NaN</td>\n",
       "    </tr>\n",
       "    <tr>\n",
       "      <th>9325</th>\n",
       "      <td>0</td>\n",
       "      <td>0</td>\n",
       "      <td>20</td>\n",
       "      <td>284</td>\n",
       "      <td>70.0</td>\n",
       "    </tr>\n",
       "    <tr>\n",
       "      <th>1776</th>\n",
       "      <td>28</td>\n",
       "      <td>58</td>\n",
       "      <td>88</td>\n",
       "      <td>88</td>\n",
       "      <td>0.0</td>\n",
       "    </tr>\n",
       "  </tbody>\n",
       "</table>\n",
       "</div>"
      ],
      "text/plain": [
       "       availability_30  availability_60  availability_90  availability_365  \\\n",
       "213                  0                0                0                 0   \n",
       "11808                0                0                0                 0   \n",
       "11691                0                0                0                 0   \n",
       "16766               30               60               90               270   \n",
       "4811                12               42               72                73   \n",
       "2254                 0                0                0                 0   \n",
       "3699                 0                0                0                 0   \n",
       "7484                 0                0                0                 0   \n",
       "9325                 0                0               20               284   \n",
       "1776                28               58               88                88   \n",
       "\n",
       "       host_acceptance_percent  \n",
       "213                        NaN  \n",
       "11808                      NaN  \n",
       "11691                     99.0  \n",
       "16766                     96.0  \n",
       "4811                       NaN  \n",
       "2254                       NaN  \n",
       "3699                       NaN  \n",
       "7484                       NaN  \n",
       "9325                      70.0  \n",
       "1776                       0.0  "
      ]
     },
     "execution_count": 169,
     "metadata": {},
     "output_type": "execute_result"
    }
   ],
   "source": [
    "# checking samples the null-price listing if there is any bookings, reviews, ... If there is like no activity, maybe these listings are no longer in business\n",
    "df_listing[df_listing['price_baht'].isna()][['availability_30','availability_60','availability_90','availability_365','host_acceptance_percent']].sample(10)"
   ]
  },
  {
   "cell_type": "code",
   "execution_count": 170,
   "metadata": {},
   "outputs": [
    {
     "data": {
      "text/plain": [
       "1767"
      ]
     },
     "execution_count": 170,
     "metadata": {},
     "output_type": "execute_result"
    }
   ],
   "source": [
    "# checking how many of null-price listings has 0 in availability, 0 reviews and null in acceptance rate\n",
    "row_to_drop = df_listing[(df_listing['price_baht'].isna()) & (df_listing['availability_365'] == 0) & (df_listing['number_of_reviews']==0) & (df_listing['host_acceptance_percent'].isna())].index\n",
    "len(row_to_drop)"
   ]
  },
  {
   "cell_type": "code",
   "execution_count": 171,
   "metadata": {},
   "outputs": [],
   "source": [
    "# drop these rows as these listing does not seem to be in operation\n",
    "df_listing = df_listing.drop(index = row_to_drop)"
   ]
  },
  {
   "cell_type": "code",
   "execution_count": 173,
   "metadata": {},
   "outputs": [
    {
     "name": "stdout",
     "output_type": "stream",
     "text": [
      "<class 'pandas.core.frame.DataFrame'>\n",
      "Index: 21884 entries, 0 to 23650\n",
      "Data columns (total 41 columns):\n",
      " #   Column                       Non-Null Count  Dtype         \n",
      "---  ------                       --------------  -----         \n",
      " 0   id                           21884 non-null  int64         \n",
      " 1   name                         21884 non-null  object        \n",
      " 2   host_id                      21884 non-null  int64         \n",
      " 3   host_name                    21883 non-null  object        \n",
      " 4   host_since                   21884 non-null  datetime64[ns]\n",
      " 5   host_is_superhost            20888 non-null  object        \n",
      " 6   host_has_profile_pic         21884 non-null  object        \n",
      " 7   host_identity_verified       21884 non-null  object        \n",
      " 8   neighbourhood_cleansed       21884 non-null  object        \n",
      " 9   latitude                     21884 non-null  float64       \n",
      " 10  longitude                    21884 non-null  float64       \n",
      " 11  property_type                21884 non-null  object        \n",
      " 12  room_type                    21884 non-null  object        \n",
      " 13  accommodates                 21884 non-null  int64         \n",
      " 14  bathrooms                    21817 non-null  float64       \n",
      " 15  bedrooms                     21414 non-null  float64       \n",
      " 16  beds                         18973 non-null  float64       \n",
      " 17  amenities                    21884 non-null  object        \n",
      " 18  minimum_nights               21884 non-null  int64         \n",
      " 19  maximum_nights               21884 non-null  int64         \n",
      " 20  has_availability             21286 non-null  object        \n",
      " 21  availability_30              21884 non-null  int64         \n",
      " 22  availability_60              21884 non-null  int64         \n",
      " 23  availability_90              21884 non-null  int64         \n",
      " 24  availability_365             21884 non-null  int64         \n",
      " 25  number_of_reviews            21884 non-null  int64         \n",
      " 26  number_of_reviews_ltm        21884 non-null  int64         \n",
      " 27  number_of_reviews_l30d       21884 non-null  int64         \n",
      " 28  review_scores_rating         15428 non-null  float64       \n",
      " 29  review_scores_accuracy       15406 non-null  float64       \n",
      " 30  review_scores_cleanliness    15405 non-null  float64       \n",
      " 31  review_scores_checkin        15401 non-null  float64       \n",
      " 32  review_scores_communication  15405 non-null  float64       \n",
      " 33  review_scores_location       15400 non-null  float64       \n",
      " 34  review_scores_value          15399 non-null  float64       \n",
      " 35  instant_bookable             21884 non-null  object        \n",
      " 36  reviews_per_month            15428 non-null  float64       \n",
      " 37  amenities_count              21884 non-null  int64         \n",
      " 38  price_baht                   19012 non-null  float64       \n",
      " 39  host_response_percent        18928 non-null  float64       \n",
      " 40  host_acceptance_percent      19392 non-null  float64       \n",
      "dtypes: datetime64[ns](1), float64(16), int64(13), object(11)\n",
      "memory usage: 7.0+ MB\n"
     ]
    }
   ],
   "source": [
    "df_listing.info()"
   ]
  },
  {
   "cell_type": "markdown",
   "metadata": {},
   "source": [
    "### Save clean file"
   ]
  },
  {
   "cell_type": "code",
   "execution_count": 172,
   "metadata": {},
   "outputs": [],
   "source": [
    "df_listing.to_csv(r'Dataload_clean/listing_cleaned.csv', index = False)"
   ]
  },
  {
   "cell_type": "markdown",
   "metadata": {},
   "source": [
    "## Clean calendar and reviews data"
   ]
  },
  {
   "cell_type": "markdown",
   "metadata": {},
   "source": [
    "### Loading and checking format"
   ]
  },
  {
   "cell_type": "code",
   "execution_count": 108,
   "metadata": {},
   "outputs": [],
   "source": [
    "import pyarrow as pa"
   ]
  },
  {
   "cell_type": "code",
   "execution_count": 109,
   "metadata": {},
   "outputs": [],
   "source": [
    "review = pd.read_parquet(r'C:\\Users\\tamla_f1yewqh\\OneDrive\\Desktop\\Python\\Projects\\Airbnb\\Dataload\\reviews.parquet')"
   ]
  },
  {
   "cell_type": "code",
   "execution_count": 110,
   "metadata": {},
   "outputs": [],
   "source": [
    "calendar = pd.read_parquet(r'C:\\Users\\tamla_f1yewqh\\OneDrive\\Desktop\\Python\\Projects\\Airbnb\\Dataload\\calendar.parquet')"
   ]
  },
  {
   "cell_type": "code",
   "execution_count": null,
   "metadata": {},
   "outputs": [],
   "source": [
    "review.head()"
   ]
  },
  {
   "cell_type": "code",
   "execution_count": null,
   "metadata": {},
   "outputs": [],
   "source": [
    "review.info()"
   ]
  },
  {
   "cell_type": "code",
   "execution_count": 37,
   "metadata": {},
   "outputs": [
    {
     "data": {
      "text/html": [
       "<div>\n",
       "<style scoped>\n",
       "    .dataframe tbody tr th:only-of-type {\n",
       "        vertical-align: middle;\n",
       "    }\n",
       "\n",
       "    .dataframe tbody tr th {\n",
       "        vertical-align: top;\n",
       "    }\n",
       "\n",
       "    .dataframe thead th {\n",
       "        text-align: right;\n",
       "    }\n",
       "</style>\n",
       "<table border=\"1\" class=\"dataframe\">\n",
       "  <thead>\n",
       "    <tr style=\"text-align: right;\">\n",
       "      <th></th>\n",
       "      <th>column0</th>\n",
       "      <th>listing_id</th>\n",
       "      <th>date</th>\n",
       "      <th>available</th>\n",
       "      <th>price</th>\n",
       "      <th>adjusted_price</th>\n",
       "      <th>minimum_nights</th>\n",
       "      <th>maximum_nights</th>\n",
       "    </tr>\n",
       "  </thead>\n",
       "  <tbody>\n",
       "    <tr>\n",
       "      <th>0</th>\n",
       "      <td>0</td>\n",
       "      <td>55681</td>\n",
       "      <td>2024-06-27</td>\n",
       "      <td>False</td>\n",
       "      <td>$1,105.00</td>\n",
       "      <td>None</td>\n",
       "      <td>2.0</td>\n",
       "      <td>365.0</td>\n",
       "    </tr>\n",
       "    <tr>\n",
       "      <th>1</th>\n",
       "      <td>1</td>\n",
       "      <td>55681</td>\n",
       "      <td>2024-06-28</td>\n",
       "      <td>False</td>\n",
       "      <td>$1,105.00</td>\n",
       "      <td>None</td>\n",
       "      <td>2.0</td>\n",
       "      <td>365.0</td>\n",
       "    </tr>\n",
       "    <tr>\n",
       "      <th>2</th>\n",
       "      <td>2</td>\n",
       "      <td>55681</td>\n",
       "      <td>2024-06-29</td>\n",
       "      <td>False</td>\n",
       "      <td>$1,105.00</td>\n",
       "      <td>None</td>\n",
       "      <td>2.0</td>\n",
       "      <td>365.0</td>\n",
       "    </tr>\n",
       "    <tr>\n",
       "      <th>3</th>\n",
       "      <td>3</td>\n",
       "      <td>55681</td>\n",
       "      <td>2024-06-30</td>\n",
       "      <td>False</td>\n",
       "      <td>$1,105.00</td>\n",
       "      <td>None</td>\n",
       "      <td>2.0</td>\n",
       "      <td>365.0</td>\n",
       "    </tr>\n",
       "    <tr>\n",
       "      <th>4</th>\n",
       "      <td>4</td>\n",
       "      <td>55681</td>\n",
       "      <td>2024-07-01</td>\n",
       "      <td>False</td>\n",
       "      <td>$1,105.00</td>\n",
       "      <td>None</td>\n",
       "      <td>2.0</td>\n",
       "      <td>365.0</td>\n",
       "    </tr>\n",
       "  </tbody>\n",
       "</table>\n",
       "</div>"
      ],
      "text/plain": [
       "   column0  listing_id        date  available      price adjusted_price  \\\n",
       "0        0       55681  2024-06-27      False  $1,105.00           None   \n",
       "1        1       55681  2024-06-28      False  $1,105.00           None   \n",
       "2        2       55681  2024-06-29      False  $1,105.00           None   \n",
       "3        3       55681  2024-06-30      False  $1,105.00           None   \n",
       "4        4       55681  2024-07-01      False  $1,105.00           None   \n",
       "\n",
       "   minimum_nights  maximum_nights  \n",
       "0             2.0           365.0  \n",
       "1             2.0           365.0  \n",
       "2             2.0           365.0  \n",
       "3             2.0           365.0  \n",
       "4             2.0           365.0  "
      ]
     },
     "execution_count": 37,
     "metadata": {},
     "output_type": "execute_result"
    }
   ],
   "source": [
    "calendar.head()"
   ]
  },
  {
   "cell_type": "code",
   "execution_count": null,
   "metadata": {},
   "outputs": [],
   "source": [
    "calendar.info()"
   ]
  },
  {
   "cell_type": "code",
   "execution_count": 114,
   "metadata": {},
   "outputs": [],
   "source": [
    "df_review = review.copy()"
   ]
  },
  {
   "cell_type": "code",
   "execution_count": 113,
   "metadata": {},
   "outputs": [],
   "source": [
    "df_calendar = calendar.copy()"
   ]
  },
  {
   "cell_type": "markdown",
   "metadata": {},
   "source": [
    "### Setting requirements"
   ]
  },
  {
   "cell_type": "markdown",
   "metadata": {},
   "source": [
    "A - For review table:\n",
    "- [x] drop column0\n",
    "- [x] convert date into datetime format\n",
    "\n",
    "B - For calendar table:\n",
    "- [x] drop column0\n",
    "- [x] convert price into price_baht\n",
    "- [x] convert date into datetime format\n",
    "- [x] clean adjusted-price\n",
    "\n",
    "C - Other:\n",
    "- [ ] Remove those lines that the listings id are not in listings table (as some listing has been removed at the last step of cleaning listings)"
   ]
  },
  {
   "cell_type": "markdown",
   "metadata": {},
   "source": [
    "### Cleaning process"
   ]
  },
  {
   "cell_type": "code",
   "execution_count": 115,
   "metadata": {},
   "outputs": [],
   "source": [
    "# drop column0 in both table\n",
    "df_review = df_review.drop('column0', axis=1)"
   ]
  },
  {
   "cell_type": "code",
   "execution_count": 116,
   "metadata": {},
   "outputs": [],
   "source": [
    "df_calendar = df_calendar.drop('column0', axis=1)"
   ]
  },
  {
   "cell_type": "code",
   "execution_count": 117,
   "metadata": {},
   "outputs": [],
   "source": [
    "# convert datetime format in both table\n",
    "df_calendar['date'] = pd.to_datetime(df_calendar['date'])\n",
    "df_review['date'] = pd.to_datetime(df_review['date'])"
   ]
  },
  {
   "cell_type": "code",
   "execution_count": 118,
   "metadata": {},
   "outputs": [],
   "source": [
    "# conver the price in calendar to local currency\n",
    "df_calendar['price_baht'] = df_calendar['price'].apply(lambda x: x.replace('$','').replace(',','').replace('.00',''))"
   ]
  },
  {
   "cell_type": "code",
   "execution_count": 119,
   "metadata": {},
   "outputs": [],
   "source": [
    "df_calendar['price_baht'] = pd.to_numeric(df_calendar['price_baht'])"
   ]
  },
  {
   "cell_type": "code",
   "execution_count": 120,
   "metadata": {},
   "outputs": [],
   "source": [
    "df_calendar = df_calendar.drop('price',axis = 1)"
   ]
  },
  {
   "cell_type": "code",
   "execution_count": 175,
   "metadata": {},
   "outputs": [
    {
     "name": "stdout",
     "output_type": "stream",
     "text": [
      "<class 'pandas.core.frame.DataFrame'>\n",
      "RangeIndex: 438958 entries, 0 to 438957\n",
      "Data columns (total 6 columns):\n",
      " #   Column         Non-Null Count   Dtype         \n",
      "---  ------         --------------   -----         \n",
      " 0   listing_id     438958 non-null  int64         \n",
      " 1   id             438958 non-null  int64         \n",
      " 2   date           438958 non-null  datetime64[ns]\n",
      " 3   reviewer_id    438958 non-null  int64         \n",
      " 4   reviewer_name  438953 non-null  object        \n",
      " 5   comments       438901 non-null  object        \n",
      "dtypes: datetime64[ns](1), int64(3), object(2)\n",
      "memory usage: 20.1+ MB\n"
     ]
    }
   ],
   "source": [
    "# checking both table\n",
    "df_review.info()"
   ]
  },
  {
   "cell_type": "code",
   "execution_count": 122,
   "metadata": {},
   "outputs": [
    {
     "name": "stdout",
     "output_type": "stream",
     "text": [
      "<class 'pandas.core.frame.DataFrame'>\n",
      "RangeIndex: 8632539 entries, 0 to 8632538\n",
      "Data columns (total 7 columns):\n",
      " #   Column          Dtype         \n",
      "---  ------          -----         \n",
      " 0   listing_id      int64         \n",
      " 1   date            datetime64[ns]\n",
      " 2   available       bool          \n",
      " 3   adjusted_price  object        \n",
      " 4   minimum_nights  float64       \n",
      " 5   maximum_nights  float64       \n",
      " 6   price_baht      float64       \n",
      "dtypes: bool(1), datetime64[ns](1), float64(3), int64(1), object(1)\n",
      "memory usage: 403.4+ MB\n"
     ]
    }
   ],
   "source": [
    "df_calendar.info()"
   ]
  },
  {
   "cell_type": "code",
   "execution_count": 123,
   "metadata": {},
   "outputs": [
    {
     "data": {
      "text/plain": [
       "8632174"
      ]
     },
     "execution_count": 123,
     "metadata": {},
     "output_type": "execute_result"
    }
   ],
   "source": [
    "# check adjusted price in calendar. The adjusted price has mostly null value which is not quite useful, hence it will be droped\n",
    "df_calendar['adjusted_price'].isna().sum()"
   ]
  },
  {
   "cell_type": "code",
   "execution_count": 124,
   "metadata": {},
   "outputs": [],
   "source": [
    "df_calendar = df_calendar.drop('adjusted_price', axis= 1)"
   ]
  },
  {
   "cell_type": "code",
   "execution_count": 174,
   "metadata": {},
   "outputs": [],
   "source": [
    "# clean out listing id that has been removed in listing data\n",
    "df_calendar['listing_to_remove'] = df_calendar['listing_id'].isin(df_listing['id'])"
   ]
  },
  {
   "cell_type": "code",
   "execution_count": 176,
   "metadata": {},
   "outputs": [],
   "source": [
    "df_review['listing_to_remove'] = df_review['listing_id'].isin(df_listing['id'])"
   ]
  },
  {
   "cell_type": "code",
   "execution_count": 178,
   "metadata": {},
   "outputs": [],
   "source": [
    "df_review = df_review[df_review['listing_to_remove']]"
   ]
  },
  {
   "cell_type": "code",
   "execution_count": 180,
   "metadata": {},
   "outputs": [],
   "source": [
    "df_calendar = df_calendar[df_calendar['listing_to_remove']]"
   ]
  },
  {
   "cell_type": "code",
   "execution_count": 181,
   "metadata": {},
   "outputs": [],
   "source": [
    "# drop the listing_to_remove in both table\n",
    "df_calendar = df_calendar.drop(columns=['listing_to_remove'])\n",
    "df_review = df_review.drop(columns=['listing_to_remove'])"
   ]
  },
  {
   "cell_type": "code",
   "execution_count": 185,
   "metadata": {},
   "outputs": [
    {
     "data": {
      "text/plain": [
       "15428"
      ]
     },
     "execution_count": 185,
     "metadata": {},
     "output_type": "execute_result"
    }
   ],
   "source": [
    "# check unique value of listing in both table\n",
    "len(df_review['listing_id'].unique())"
   ]
  },
  {
   "cell_type": "code",
   "execution_count": 186,
   "metadata": {},
   "outputs": [
    {
     "data": {
      "text/plain": [
       "21884"
      ]
     },
     "execution_count": 186,
     "metadata": {},
     "output_type": "execute_result"
    }
   ],
   "source": [
    "# the number of listings on calendar now match the number of listings on listing table\n",
    "len(df_calendar['listing_id'].unique())"
   ]
  },
  {
   "cell_type": "markdown",
   "metadata": {},
   "source": [
    "### Save clean files"
   ]
  },
  {
   "cell_type": "code",
   "execution_count": 182,
   "metadata": {},
   "outputs": [],
   "source": [
    "df_review.to_parquet(r'Dataload_clean/review_clean.parquet', index = False)"
   ]
  },
  {
   "cell_type": "code",
   "execution_count": 183,
   "metadata": {},
   "outputs": [],
   "source": [
    "df_calendar.to_parquet(r'Dataload_clean/calendar_clean.parquet', index = False)"
   ]
  }
 ],
 "metadata": {
  "kernelspec": {
   "display_name": "airbnb",
   "language": "python",
   "name": "python3"
  },
  "language_info": {
   "codemirror_mode": {
    "name": "ipython",
    "version": 3
   },
   "file_extension": ".py",
   "mimetype": "text/x-python",
   "name": "python",
   "nbconvert_exporter": "python",
   "pygments_lexer": "ipython3",
   "version": "3.12.4"
  }
 },
 "nbformat": 4,
 "nbformat_minor": 2
}
