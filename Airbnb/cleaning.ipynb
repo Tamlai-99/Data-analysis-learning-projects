{
 "cells": [
  {
   "cell_type": "markdown",
   "metadata": {},
   "source": [
    "# Data cleaning projects"
   ]
  },
  {
   "cell_type": "code",
   "execution_count": 5,
   "metadata": {},
   "outputs": [],
   "source": [
    "import pandas as pd"
   ]
  },
  {
   "cell_type": "code",
   "execution_count": 28,
   "metadata": {},
   "outputs": [],
   "source": [
    "import pyarrow as pa"
   ]
  },
  {
   "cell_type": "code",
   "execution_count": 29,
   "metadata": {},
   "outputs": [],
   "source": [
    "listing = pd.read_parquet(r'C:\\Users\\tamla_f1yewqh\\OneDrive\\Desktop\\Python\\Projects\\Airbnb\\Dataload\\listing.parquet')"
   ]
  },
  {
   "cell_type": "markdown",
   "metadata": {},
   "source": [
    "## Clean listing data"
   ]
  },
  {
   "cell_type": "markdown",
   "metadata": {},
   "source": [
    "### Setting requirements"
   ]
  },
  {
   "cell_type": "code",
   "execution_count": null,
   "metadata": {},
   "outputs": [],
   "source": [
    "# pd.set_option('display.max_columns', None)\n",
    "# pd.set_option('display.max_rows', None)"
   ]
  },
  {
   "cell_type": "markdown",
   "metadata": {},
   "source": [
    "- [x] get rid of unnecessary columns\n",
    "  \n",
    "A- Price factors:\n",
    "  - [x] facitlity: property_type, room_type, accomodates, bathrooms, bathrooms text, bedrooms, beds, amenities, price\n",
    "  - [x] location: latitde, longitude, neighbourhood_cleanse,\n",
    "  - [x] time: calendar factors\n",
    "  \n",
    "\n",
    "B- Occupancy rate: \n",
    "  - [x] location, time, price factors\n",
    "  - [x] occupancy metrics: availability, minimum/ maximum night, \n",
    "  - [x] host factors: check host_location, convert host_since/ response time/ response rate/ acceptance rate/ superhost to suitable data types\n",
    "  - [ ] review related: keep all review column in listing, and count the number of review for each listing in review data\n",
    "\n",
    "C- Other:\n",
    "  - [x] Outliers check\n",
    "  - [x] Handle null values"
   ]
  },
  {
   "cell_type": "code",
   "execution_count": 30,
   "metadata": {},
   "outputs": [],
   "source": [
    "col_to_drop = ['column00','neighbourhood_group_cleansed', 'listing_url', 'scrape_id', \n",
    "                'last_scraped','source', 'description','neighborhood_overview', 'picture_url',\n",
    "                'host_url','host_thumbnail_url','host_picture_url', 'host_neighbourhood', \n",
    "                'host_listings_count', 'host_total_listings_count', 'neighbourhood', \n",
    "                'minimum_minimum_nights', 'maximum_minimum_nights','minimum_maximum_nights', \n",
    "                'maximum_maximum_nights','minimum_nights_avg_ntm','maximum_nights_avg_ntm', \n",
    "                'calendar_updated', 'calendar_last_scraped','first_review',\n",
    "                'last_review','license', 'calculated_host_listings_count',\n",
    "                'calculated_host_listings_count_entire_homes',\n",
    "                'calculated_host_listings_count_private_rooms', \n",
    "                'calculated_host_listings_count_shared_rooms']"
   ]
  },
  {
   "cell_type": "code",
   "execution_count": 31,
   "metadata": {},
   "outputs": [],
   "source": [
    "df_listing = listing.drop(col_to_drop, axis = 1)"
   ]
  },
  {
   "cell_type": "code",
   "execution_count": null,
   "metadata": {},
   "outputs": [],
   "source": [
    "df_listing.info()"
   ]
  },
  {
   "cell_type": "markdown",
   "metadata": {},
   "source": [
    "### Clean data related to price factors"
   ]
  },
  {
   "cell_type": "code",
   "execution_count": 33,
   "metadata": {},
   "outputs": [
    {
     "data": {
      "text/plain": [
       "room_type\n",
       "Entire home/apt    14736\n",
       "Hotel room           458\n",
       "Private room        7931\n",
       "Shared room          526\n",
       "Name: id, dtype: int64"
      ]
     },
     "execution_count": 33,
     "metadata": {},
     "output_type": "execute_result"
    }
   ],
   "source": [
    "#checking format of property_type, room_type, accommodates\n",
    "df_listing.groupby('room_type').count()['id']"
   ]
  },
  {
   "cell_type": "code",
   "execution_count": 90,
   "metadata": {},
   "outputs": [
    {
     "data": {
      "text/html": [
       "<div>\n",
       "<style scoped>\n",
       "    .dataframe tbody tr th:only-of-type {\n",
       "        vertical-align: middle;\n",
       "    }\n",
       "\n",
       "    .dataframe tbody tr th {\n",
       "        vertical-align: top;\n",
       "    }\n",
       "\n",
       "    .dataframe thead th {\n",
       "        text-align: right;\n",
       "    }\n",
       "</style>\n",
       "<table border=\"1\" class=\"dataframe\">\n",
       "  <thead>\n",
       "    <tr style=\"text-align: right;\">\n",
       "      <th></th>\n",
       "      <th>property_type</th>\n",
       "      <th>id</th>\n",
       "    </tr>\n",
       "  </thead>\n",
       "  <tbody>\n",
       "    <tr>\n",
       "      <th>14</th>\n",
       "      <td>Entire rental unit</td>\n",
       "      <td>8456</td>\n",
       "    </tr>\n",
       "    <tr>\n",
       "      <th>6</th>\n",
       "      <td>Entire condo</td>\n",
       "      <td>3721</td>\n",
       "    </tr>\n",
       "    <tr>\n",
       "      <th>44</th>\n",
       "      <td>Private room in rental unit</td>\n",
       "      <td>2143</td>\n",
       "    </tr>\n",
       "    <tr>\n",
       "      <th>57</th>\n",
       "      <td>Room in hotel</td>\n",
       "      <td>1517</td>\n",
       "    </tr>\n",
       "    <tr>\n",
       "      <th>10</th>\n",
       "      <td>Entire home</td>\n",
       "      <td>863</td>\n",
       "    </tr>\n",
       "    <tr>\n",
       "      <th>...</th>\n",
       "      <td>...</td>\n",
       "      <td>...</td>\n",
       "    </tr>\n",
       "    <tr>\n",
       "      <th>34</th>\n",
       "      <td>Private room in farm stay</td>\n",
       "      <td>1</td>\n",
       "    </tr>\n",
       "    <tr>\n",
       "      <th>35</th>\n",
       "      <td>Private room in floor</td>\n",
       "      <td>1</td>\n",
       "    </tr>\n",
       "    <tr>\n",
       "      <th>76</th>\n",
       "      <td>Shipping container</td>\n",
       "      <td>1</td>\n",
       "    </tr>\n",
       "    <tr>\n",
       "      <th>1</th>\n",
       "      <td>Dome</td>\n",
       "      <td>1</td>\n",
       "    </tr>\n",
       "    <tr>\n",
       "      <th>25</th>\n",
       "      <td>Private room in boat</td>\n",
       "      <td>1</td>\n",
       "    </tr>\n",
       "  </tbody>\n",
       "</table>\n",
       "<p>79 rows × 2 columns</p>\n",
       "</div>"
      ],
      "text/plain": [
       "                  property_type    id\n",
       "14           Entire rental unit  8456\n",
       "6                  Entire condo  3721\n",
       "44  Private room in rental unit  2143\n",
       "57                Room in hotel  1517\n",
       "10                  Entire home   863\n",
       "..                          ...   ...\n",
       "34    Private room in farm stay     1\n",
       "35        Private room in floor     1\n",
       "76           Shipping container     1\n",
       "1                          Dome     1\n",
       "25         Private room in boat     1\n",
       "\n",
       "[79 rows x 2 columns]"
      ]
     },
     "execution_count": 90,
     "metadata": {},
     "output_type": "execute_result"
    }
   ],
   "source": [
    "#checking format of property_type, room_type, accommodates\n",
    "df_listing.groupby('property_type').count()['id'].reset_index().sort_values(by = 'id', ascending=False)"
   ]
  },
  {
   "cell_type": "code",
   "execution_count": 87,
   "metadata": {},
   "outputs": [
    {
     "data": {
      "text/plain": [
       "accommodates\n",
       "1       722\n",
       "2     12547\n",
       "3      2506\n",
       "4      3089\n",
       "5       711\n",
       "6       977\n",
       "7       143\n",
       "8       409\n",
       "9        81\n",
       "10      196\n",
       "11       44\n",
       "12      162\n",
       "13       15\n",
       "14       62\n",
       "15       25\n",
       "16      195\n",
       "Name: id, dtype: int64"
      ]
     },
     "execution_count": 87,
     "metadata": {},
     "output_type": "execute_result"
    }
   ],
   "source": [
    "#checking format of property_type, room_type, accommodates\n",
    "df_listing.groupby('accommodates').count()['id']"
   ]
  },
  {
   "cell_type": "code",
   "execution_count": 36,
   "metadata": {},
   "outputs": [
    {
     "data": {
      "text/plain": [
       "4642"
      ]
     },
     "execution_count": 36,
     "metadata": {},
     "output_type": "execute_result"
    }
   ],
   "source": [
    "# bathrooms na values\n",
    "df_listing['bathrooms'].isna().sum()"
   ]
  },
  {
   "cell_type": "code",
   "execution_count": 38,
   "metadata": {},
   "outputs": [
    {
     "data": {
      "text/html": [
       "<div>\n",
       "<style scoped>\n",
       "    .dataframe tbody tr th:only-of-type {\n",
       "        vertical-align: middle;\n",
       "    }\n",
       "\n",
       "    .dataframe tbody tr th {\n",
       "        vertical-align: top;\n",
       "    }\n",
       "\n",
       "    .dataframe thead th {\n",
       "        text-align: right;\n",
       "    }\n",
       "</style>\n",
       "<table border=\"1\" class=\"dataframe\">\n",
       "  <thead>\n",
       "    <tr style=\"text-align: right;\">\n",
       "      <th></th>\n",
       "      <th>bathrooms</th>\n",
       "      <th>bathrooms_text</th>\n",
       "    </tr>\n",
       "  </thead>\n",
       "  <tbody>\n",
       "    <tr>\n",
       "      <th>1</th>\n",
       "      <td>NaN</td>\n",
       "      <td>1 bath</td>\n",
       "    </tr>\n",
       "    <tr>\n",
       "      <th>2</th>\n",
       "      <td>NaN</td>\n",
       "      <td>1 bath</td>\n",
       "    </tr>\n",
       "    <tr>\n",
       "      <th>8</th>\n",
       "      <td>NaN</td>\n",
       "      <td>1 bath</td>\n",
       "    </tr>\n",
       "    <tr>\n",
       "      <th>15</th>\n",
       "      <td>NaN</td>\n",
       "      <td>4 baths</td>\n",
       "    </tr>\n",
       "    <tr>\n",
       "      <th>17</th>\n",
       "      <td>NaN</td>\n",
       "      <td>1 bath</td>\n",
       "    </tr>\n",
       "  </tbody>\n",
       "</table>\n",
       "</div>"
      ],
      "text/plain": [
       "    bathrooms bathrooms_text\n",
       "1         NaN         1 bath\n",
       "2         NaN         1 bath\n",
       "8         NaN         1 bath\n",
       "15        NaN        4 baths\n",
       "17        NaN         1 bath"
      ]
     },
     "execution_count": 38,
     "metadata": {},
     "output_type": "execute_result"
    }
   ],
   "source": [
    "# compared null value with bathroom_text\n",
    "df_listing[df_listing['bathrooms'].isna()][['bathrooms','bathrooms_text']].head(5)"
   ]
  },
  {
   "cell_type": "code",
   "execution_count": 37,
   "metadata": {},
   "outputs": [
    {
     "data": {
      "text/plain": [
       "4642"
      ]
     },
     "execution_count": 37,
     "metadata": {},
     "output_type": "execute_result"
    }
   ],
   "source": [
    "# checking if the bathrooms text can fill the na in bathrooms\n",
    "len(df_listing[df_listing['bathrooms'].isna()][['bathrooms','bathrooms_text']])"
   ]
  },
  {
   "cell_type": "code",
   "execution_count": 39,
   "metadata": {},
   "outputs": [
    {
     "data": {
      "text/html": [
       "<div>\n",
       "<style scoped>\n",
       "    .dataframe tbody tr th:only-of-type {\n",
       "        vertical-align: middle;\n",
       "    }\n",
       "\n",
       "    .dataframe tbody tr th {\n",
       "        vertical-align: top;\n",
       "    }\n",
       "\n",
       "    .dataframe thead th {\n",
       "        text-align: right;\n",
       "    }\n",
       "</style>\n",
       "<table border=\"1\" class=\"dataframe\">\n",
       "  <thead>\n",
       "    <tr style=\"text-align: right;\">\n",
       "      <th></th>\n",
       "      <th>bathrooms</th>\n",
       "      <th>bath</th>\n",
       "    </tr>\n",
       "  </thead>\n",
       "  <tbody>\n",
       "    <tr>\n",
       "      <th>0</th>\n",
       "      <td>1.5</td>\n",
       "      <td>1.5</td>\n",
       "    </tr>\n",
       "    <tr>\n",
       "      <th>1</th>\n",
       "      <td>1.0</td>\n",
       "      <td>1.0</td>\n",
       "    </tr>\n",
       "    <tr>\n",
       "      <th>2</th>\n",
       "      <td>1 bath</td>\n",
       "      <td>1</td>\n",
       "    </tr>\n",
       "    <tr>\n",
       "      <th>3</th>\n",
       "      <td>1.5 shared bath</td>\n",
       "      <td>1.5</td>\n",
       "    </tr>\n",
       "  </tbody>\n",
       "</table>\n",
       "</div>"
      ],
      "text/plain": [
       "         bathrooms bath\n",
       "0              1.5  1.5\n",
       "1              1.0  1.0\n",
       "2           1 bath    1\n",
       "3  1.5 shared bath  1.5"
      ]
     },
     "execution_count": 39,
     "metadata": {},
     "output_type": "execute_result"
    }
   ],
   "source": [
    "# testing samples\n",
    "sample = pd.DataFrame(['1.5','1.0', '1 bath','1.5 shared bath'], columns=['bathrooms'])\n",
    "sample['bath'] = sample['bathrooms'].str.split(' ',expand=True)[0]\n",
    "sample"
   ]
  },
  {
   "cell_type": "code",
   "execution_count": 40,
   "metadata": {},
   "outputs": [],
   "source": [
    "#convert value on bathrooms text to number\n",
    "df_listing['bathrooms_text'] = df_listing['bathrooms_text'].str.split(' ',expand=True)[0]"
   ]
  },
  {
   "cell_type": "code",
   "execution_count": 41,
   "metadata": {},
   "outputs": [],
   "source": [
    "# fillna in bathrooms with bathrooms text value\n",
    "df_listing['bathrooms'] = df_listing['bathrooms'].fillna(df_listing['bathrooms_text'])"
   ]
  },
  {
   "cell_type": "code",
   "execution_count": 42,
   "metadata": {},
   "outputs": [],
   "source": [
    "# clean and transform to numeric type for bathrooms column\n",
    "df_listing['bathrooms'] = pd.to_numeric(df_listing['bathrooms'], errors='coerce')"
   ]
  },
  {
   "cell_type": "code",
   "execution_count": 43,
   "metadata": {},
   "outputs": [
    {
     "data": {
      "text/plain": [
       "85"
      ]
     },
     "execution_count": 43,
     "metadata": {},
     "output_type": "execute_result"
    }
   ],
   "source": [
    "# check the how many na value left\n",
    "df_listing['bathrooms'].isna().sum()"
   ]
  },
  {
   "cell_type": "code",
   "execution_count": null,
   "metadata": {},
   "outputs": [],
   "source": [
    "# checking amenities\n",
    "df_listing['amenities'].sample(10)"
   ]
  },
  {
   "cell_type": "code",
   "execution_count": 45,
   "metadata": {},
   "outputs": [],
   "source": [
    "# clean format\n",
    "df_listing['amenities'] = df_listing['amenities'].apply(lambda x: x.replace('[','').replace(']','').replace('\"','').replace(' ,',',').replace(', ',',').split(','))"
   ]
  },
  {
   "cell_type": "code",
   "execution_count": 46,
   "metadata": {},
   "outputs": [],
   "source": [
    "# adding the number of amenities\n",
    "df_listing['amenities_count'] = df_listing['amenities'].apply(len)"
   ]
  },
  {
   "cell_type": "code",
   "execution_count": null,
   "metadata": {},
   "outputs": [],
   "source": [
    "# clean price column. The currency is local currency (baht)\n",
    "df_listing['price'].head(10)"
   ]
  },
  {
   "cell_type": "code",
   "execution_count": 48,
   "metadata": {},
   "outputs": [],
   "source": [
    "df_listing['price_baht'] = df_listing['price'].str.replace('$','')\n",
    "df_listing['price_baht'] = df_listing['price_baht'].str.replace(',','')\n",
    "df_listing['price_baht'] = df_listing['price_baht'].str.replace('.00','')\n",
    "df_listing['price_baht'] = pd.to_numeric(df_listing['price_baht'])"
   ]
  },
  {
   "cell_type": "markdown",
   "metadata": {},
   "source": [
    "### Clean location/host/review factors"
   ]
  },
  {
   "cell_type": "code",
   "execution_count": null,
   "metadata": {},
   "outputs": [],
   "source": [
    "# checking neighborhood format. The format seem to be good, no need further edit\n",
    "df_listing.groupby('neighbourhood_cleansed').count()['id']"
   ]
  },
  {
   "cell_type": "code",
   "execution_count": null,
   "metadata": {},
   "outputs": [],
   "source": [
    "# host factors: host_since convert to datetime, check lost_location, convert response time/ response rate/ acceptance rate/ superhost to suitable data types\n",
    "df_listing.groupby('host_location').count()['id']"
   ]
  },
  {
   "cell_type": "code",
   "execution_count": 51,
   "metadata": {},
   "outputs": [
    {
     "data": {
      "text/plain": [
       "14626"
      ]
     },
     "execution_count": 51,
     "metadata": {},
     "output_type": "execute_result"
    }
   ],
   "source": [
    "# how many host are located in Bangkok\n",
    "len(df_listing[df_listing['host_location'].str.contains(r'Bangkok') == True])"
   ]
  },
  {
   "cell_type": "code",
   "execution_count": 52,
   "metadata": {},
   "outputs": [],
   "source": [
    "# convert the host since into date time\n",
    "df_listing['host_since'] = pd.to_datetime(df_listing['host_since'], errors='coerce')"
   ]
  },
  {
   "cell_type": "code",
   "execution_count": 53,
   "metadata": {},
   "outputs": [
    {
     "data": {
      "text/plain": [
       "host_response_time\n",
       "a few days or more      842\n",
       "within a day            911\n",
       "within a few hours     1726\n",
       "within an hour        15450\n",
       "Name: id, dtype: int64"
      ]
     },
     "execution_count": 53,
     "metadata": {},
     "output_type": "execute_result"
    }
   ],
   "source": [
    "# checking host_response time\n",
    "df_listing.groupby('host_response_time').count()['id']"
   ]
  },
  {
   "cell_type": "code",
   "execution_count": 54,
   "metadata": {},
   "outputs": [],
   "source": [
    "# checking response rate: remove % sign and convert to numeric\n",
    "df_listing['host_response_percent'] = pd.to_numeric(df_listing['host_response_rate'].str.replace('%',''))"
   ]
  },
  {
   "cell_type": "code",
   "execution_count": 55,
   "metadata": {},
   "outputs": [],
   "source": [
    "# checking host acceptance rate\n",
    "df_listing['host_acceptance_percent'] = pd.to_numeric(df_listing['host_acceptance_rate'].str.replace('%',''))"
   ]
  },
  {
   "cell_type": "code",
   "execution_count": null,
   "metadata": {},
   "outputs": [],
   "source": [
    "#convert boolean type \n",
    "df_listing['host_is_superhost'].astype('bool')\n",
    "df_listing['host_identity_verified'].astype('bool')\n",
    "df_listing['host_has_profile_pic'].astype('bool')\n",
    "df_listing['instant_bookable'].astype('bool')\n",
    "df_listing['host_has_profile_pic'].astype('bool')"
   ]
  },
  {
   "cell_type": "code",
   "execution_count": null,
   "metadata": {},
   "outputs": [],
   "source": [
    "# recheck columns and drop unncessary columns\n",
    "df_listing.info()"
   ]
  },
  {
   "cell_type": "code",
   "execution_count": 58,
   "metadata": {},
   "outputs": [],
   "source": [
    "col_to_drop2 = ['host_location', 'host_about', 'host_response_time', 'host_acceptance_rate', 'bathrooms_text', 'price','host_response_rate','host_verifications']"
   ]
  },
  {
   "cell_type": "code",
   "execution_count": 59,
   "metadata": {},
   "outputs": [],
   "source": [
    "df_listing = df_listing.drop(col_to_drop2, axis =1)"
   ]
  },
  {
   "cell_type": "code",
   "execution_count": 85,
   "metadata": {},
   "outputs": [
    {
     "name": "stdout",
     "output_type": "stream",
     "text": [
      "<class 'pandas.core.frame.DataFrame'>\n",
      "Index: 21884 entries, 0 to 23650\n",
      "Data columns (total 41 columns):\n",
      " #   Column                       Non-Null Count  Dtype         \n",
      "---  ------                       --------------  -----         \n",
      " 0   id                           21884 non-null  int64         \n",
      " 1   name                         21884 non-null  object        \n",
      " 2   host_id                      21884 non-null  int64         \n",
      " 3   host_name                    21883 non-null  object        \n",
      " 4   host_since                   21884 non-null  datetime64[ns]\n",
      " 5   host_is_superhost            20888 non-null  object        \n",
      " 6   host_has_profile_pic         21884 non-null  bool          \n",
      " 7   host_identity_verified       21884 non-null  bool          \n",
      " 8   neighbourhood_cleansed       21884 non-null  object        \n",
      " 9   latitude                     21884 non-null  float64       \n",
      " 10  longitude                    21884 non-null  float64       \n",
      " 11  property_type                21884 non-null  object        \n",
      " 12  room_type                    21884 non-null  object        \n",
      " 13  accommodates                 21884 non-null  int64         \n",
      " 14  bathrooms                    21817 non-null  float64       \n",
      " 15  bedrooms                     21414 non-null  float64       \n",
      " 16  beds                         18973 non-null  float64       \n",
      " 17  amenities                    21884 non-null  object        \n",
      " 18  minimum_nights               21884 non-null  int64         \n",
      " 19  maximum_nights               21884 non-null  int64         \n",
      " 20  has_availability             21286 non-null  object        \n",
      " 21  availability_30              21884 non-null  int64         \n",
      " 22  availability_60              21884 non-null  int64         \n",
      " 23  availability_90              21884 non-null  int64         \n",
      " 24  availability_365             21884 non-null  int64         \n",
      " 25  number_of_reviews            21884 non-null  int64         \n",
      " 26  number_of_reviews_ltm        21884 non-null  int64         \n",
      " 27  number_of_reviews_l30d       21884 non-null  int64         \n",
      " 28  review_scores_rating         15428 non-null  float64       \n",
      " 29  review_scores_accuracy       15406 non-null  float64       \n",
      " 30  review_scores_cleanliness    15405 non-null  float64       \n",
      " 31  review_scores_checkin        15401 non-null  float64       \n",
      " 32  review_scores_communication  15405 non-null  float64       \n",
      " 33  review_scores_location       15400 non-null  float64       \n",
      " 34  review_scores_value          15399 non-null  float64       \n",
      " 35  instant_bookable             21884 non-null  bool          \n",
      " 36  reviews_per_month            15428 non-null  float64       \n",
      " 37  amenities_count              21884 non-null  int64         \n",
      " 38  price_baht                   19012 non-null  float64       \n",
      " 39  host_response_percent        18928 non-null  float64       \n",
      " 40  host_acceptance_percent      19392 non-null  float64       \n",
      "dtypes: bool(3), datetime64[ns](1), float64(16), int64(13), object(8)\n",
      "memory usage: 6.6+ MB\n"
     ]
    }
   ],
   "source": [
    "df_listing.info()"
   ]
  },
  {
   "cell_type": "markdown",
   "metadata": {},
   "source": [
    "### Handle missing values/ outliers"
   ]
  },
  {
   "cell_type": "code",
   "execution_count": null,
   "metadata": {},
   "outputs": [],
   "source": [
    "# outliers detection: accommodates, rooms, beds, price \n",
    "df_listing.groupby('accommodates').count()['id'] # there seem no outliers in range of accomodates"
   ]
  },
  {
   "cell_type": "code",
   "execution_count": null,
   "metadata": {},
   "outputs": [],
   "source": [
    "# checking outliers for bedrooms\n",
    "df_listing.groupby('bedrooms').count()['id'].sort_values(ascending=False) "
   ]
  },
  {
   "cell_type": "code",
   "execution_count": null,
   "metadata": {},
   "outputs": [],
   "source": [
    "# check what kind of listing has 0 bedrooms.\n",
    "df_listing[df_listing['bedrooms'] == 0][['beds','bedrooms','property_type']].sample(10)"
   ]
  },
  {
   "cell_type": "code",
   "execution_count": 64,
   "metadata": {},
   "outputs": [
    {
     "data": {
      "text/plain": [
       "872"
      ]
     },
     "execution_count": 64,
     "metadata": {},
     "output_type": "execute_result"
    }
   ],
   "source": [
    "# check 0 bedrooms case and compare to beds not 0\n",
    "len(df_listing[(df_listing['bedrooms'] == 0) & (df_listing['beds'] != 0)])"
   ]
  },
  {
   "cell_type": "code",
   "execution_count": 65,
   "metadata": {},
   "outputs": [
    {
     "data": {
      "text/plain": [
       "1.069291448031414"
      ]
     },
     "execution_count": 65,
     "metadata": {},
     "output_type": "execute_result"
    }
   ],
   "source": [
    "# question: should the 0 bedrooms value be fill with the beds value assuming 1 bed = 1 bedroom. If so, what is the average bed per bedroom\n",
    "bed_num = df_listing[(df_listing['beds'] != 0) & (df_listing['bedrooms'] != 0)]['beds'].sum()\n",
    "bedroom_num = df_listing[(df_listing['beds'] != 0) & (df_listing['bedrooms'] != 0)]['bedrooms'].sum()\n",
    "bed_num/bedroom_num "
   ]
  },
  {
   "cell_type": "code",
   "execution_count": 66,
   "metadata": {},
   "outputs": [],
   "source": [
    "# since the average beds per bedroom is nearly 01, the 0 number of bedrooms col can get replace with non-zero in beds col\n",
    "df_listing['bedrooms'] = df_listing.apply(lambda x: x['beds'] if x['bedrooms'] == 0 else x['bedrooms'], axis = 1 )"
   ]
  },
  {
   "cell_type": "code",
   "execution_count": 67,
   "metadata": {},
   "outputs": [
    {
     "data": {
      "text/plain": [
       "60"
      ]
     },
     "execution_count": 67,
     "metadata": {},
     "output_type": "execute_result"
    }
   ],
   "source": [
    "# check the number of 0 bedrooms left\n",
    "len(df_listing[df_listing['bedrooms'] == 0])"
   ]
  },
  {
   "cell_type": "code",
   "execution_count": 68,
   "metadata": {},
   "outputs": [
    {
     "data": {
      "text/plain": [
       "4639"
      ]
     },
     "execution_count": 68,
     "metadata": {},
     "output_type": "execute_result"
    }
   ],
   "source": [
    "# number of listing with null price (does not list their price)\n",
    "df_listing['price_baht'].isna().sum()"
   ]
  },
  {
   "cell_type": "code",
   "execution_count": 69,
   "metadata": {},
   "outputs": [
    {
     "data": {
      "text/html": [
       "<div>\n",
       "<style scoped>\n",
       "    .dataframe tbody tr th:only-of-type {\n",
       "        vertical-align: middle;\n",
       "    }\n",
       "\n",
       "    .dataframe tbody tr th {\n",
       "        vertical-align: top;\n",
       "    }\n",
       "\n",
       "    .dataframe thead th {\n",
       "        text-align: right;\n",
       "    }\n",
       "</style>\n",
       "<table border=\"1\" class=\"dataframe\">\n",
       "  <thead>\n",
       "    <tr style=\"text-align: right;\">\n",
       "      <th></th>\n",
       "      <th>availability_30</th>\n",
       "      <th>availability_60</th>\n",
       "      <th>availability_90</th>\n",
       "      <th>availability_365</th>\n",
       "      <th>host_acceptance_percent</th>\n",
       "    </tr>\n",
       "  </thead>\n",
       "  <tbody>\n",
       "    <tr>\n",
       "      <th>3905</th>\n",
       "      <td>0</td>\n",
       "      <td>0</td>\n",
       "      <td>0</td>\n",
       "      <td>0</td>\n",
       "      <td>100.0</td>\n",
       "    </tr>\n",
       "    <tr>\n",
       "      <th>12269</th>\n",
       "      <td>30</td>\n",
       "      <td>60</td>\n",
       "      <td>90</td>\n",
       "      <td>365</td>\n",
       "      <td>100.0</td>\n",
       "    </tr>\n",
       "    <tr>\n",
       "      <th>16316</th>\n",
       "      <td>29</td>\n",
       "      <td>59</td>\n",
       "      <td>89</td>\n",
       "      <td>269</td>\n",
       "      <td>56.0</td>\n",
       "    </tr>\n",
       "    <tr>\n",
       "      <th>3719</th>\n",
       "      <td>30</td>\n",
       "      <td>60</td>\n",
       "      <td>90</td>\n",
       "      <td>365</td>\n",
       "      <td>52.0</td>\n",
       "    </tr>\n",
       "    <tr>\n",
       "      <th>11344</th>\n",
       "      <td>23</td>\n",
       "      <td>53</td>\n",
       "      <td>83</td>\n",
       "      <td>358</td>\n",
       "      <td>99.0</td>\n",
       "    </tr>\n",
       "    <tr>\n",
       "      <th>3059</th>\n",
       "      <td>0</td>\n",
       "      <td>0</td>\n",
       "      <td>0</td>\n",
       "      <td>0</td>\n",
       "      <td>NaN</td>\n",
       "    </tr>\n",
       "    <tr>\n",
       "      <th>8090</th>\n",
       "      <td>0</td>\n",
       "      <td>0</td>\n",
       "      <td>0</td>\n",
       "      <td>0</td>\n",
       "      <td>NaN</td>\n",
       "    </tr>\n",
       "    <tr>\n",
       "      <th>367</th>\n",
       "      <td>0</td>\n",
       "      <td>0</td>\n",
       "      <td>0</td>\n",
       "      <td>0</td>\n",
       "      <td>NaN</td>\n",
       "    </tr>\n",
       "    <tr>\n",
       "      <th>14955</th>\n",
       "      <td>0</td>\n",
       "      <td>0</td>\n",
       "      <td>0</td>\n",
       "      <td>0</td>\n",
       "      <td>100.0</td>\n",
       "    </tr>\n",
       "    <tr>\n",
       "      <th>16077</th>\n",
       "      <td>29</td>\n",
       "      <td>59</td>\n",
       "      <td>89</td>\n",
       "      <td>269</td>\n",
       "      <td>20.0</td>\n",
       "    </tr>\n",
       "  </tbody>\n",
       "</table>\n",
       "</div>"
      ],
      "text/plain": [
       "       availability_30  availability_60  availability_90  availability_365  \\\n",
       "3905                 0                0                0                 0   \n",
       "12269               30               60               90               365   \n",
       "16316               29               59               89               269   \n",
       "3719                30               60               90               365   \n",
       "11344               23               53               83               358   \n",
       "3059                 0                0                0                 0   \n",
       "8090                 0                0                0                 0   \n",
       "367                  0                0                0                 0   \n",
       "14955                0                0                0                 0   \n",
       "16077               29               59               89               269   \n",
       "\n",
       "       host_acceptance_percent  \n",
       "3905                     100.0  \n",
       "12269                    100.0  \n",
       "16316                     56.0  \n",
       "3719                      52.0  \n",
       "11344                     99.0  \n",
       "3059                       NaN  \n",
       "8090                       NaN  \n",
       "367                        NaN  \n",
       "14955                    100.0  \n",
       "16077                     20.0  "
      ]
     },
     "execution_count": 69,
     "metadata": {},
     "output_type": "execute_result"
    }
   ],
   "source": [
    "# checking samples the null-price listing if there is any bookings, reviews, ... If there is like no activity, maybe these listings are no longer in business\n",
    "df_listing[df_listing['price_baht'].isna()][['availability_30','availability_60','availability_90','availability_365','host_acceptance_percent']].sample(10)"
   ]
  },
  {
   "cell_type": "code",
   "execution_count": 70,
   "metadata": {},
   "outputs": [
    {
     "data": {
      "text/plain": [
       "1767"
      ]
     },
     "execution_count": 70,
     "metadata": {},
     "output_type": "execute_result"
    }
   ],
   "source": [
    "# checking how many of null-price listings has 0 in availability, 0 reviews and null in acceptance rate\n",
    "row_to_drop = df_listing[(df_listing['price_baht'].isna()) & (df_listing['availability_365'] == 0) & (df_listing['number_of_reviews']==0) & (df_listing['host_acceptance_percent'].isna())].index\n",
    "len(row_to_drop)"
   ]
  },
  {
   "cell_type": "code",
   "execution_count": 71,
   "metadata": {},
   "outputs": [],
   "source": [
    "# drop these rows as these listing does not seem to be in operation\n",
    "df_listing = df_listing.drop(index = row_to_drop)"
   ]
  },
  {
   "cell_type": "code",
   "execution_count": 84,
   "metadata": {},
   "outputs": [
    {
     "name": "stdout",
     "output_type": "stream",
     "text": [
      "<class 'pandas.core.frame.DataFrame'>\n",
      "Index: 21884 entries, 0 to 23650\n",
      "Data columns (total 41 columns):\n",
      " #   Column                       Non-Null Count  Dtype         \n",
      "---  ------                       --------------  -----         \n",
      " 0   id                           21884 non-null  int64         \n",
      " 1   name                         21884 non-null  object        \n",
      " 2   host_id                      21884 non-null  int64         \n",
      " 3   host_name                    21883 non-null  object        \n",
      " 4   host_since                   21884 non-null  datetime64[ns]\n",
      " 5   host_is_superhost            20888 non-null  object        \n",
      " 6   host_has_profile_pic         21884 non-null  bool          \n",
      " 7   host_identity_verified       21884 non-null  bool          \n",
      " 8   neighbourhood_cleansed       21884 non-null  object        \n",
      " 9   latitude                     21884 non-null  float64       \n",
      " 10  longitude                    21884 non-null  float64       \n",
      " 11  property_type                21884 non-null  object        \n",
      " 12  room_type                    21884 non-null  object        \n",
      " 13  accommodates                 21884 non-null  int64         \n",
      " 14  bathrooms                    21817 non-null  float64       \n",
      " 15  bedrooms                     21414 non-null  float64       \n",
      " 16  beds                         18973 non-null  float64       \n",
      " 17  amenities                    21884 non-null  object        \n",
      " 18  minimum_nights               21884 non-null  int64         \n",
      " 19  maximum_nights               21884 non-null  int64         \n",
      " 20  has_availability             21286 non-null  object        \n",
      " 21  availability_30              21884 non-null  int64         \n",
      " 22  availability_60              21884 non-null  int64         \n",
      " 23  availability_90              21884 non-null  int64         \n",
      " 24  availability_365             21884 non-null  int64         \n",
      " 25  number_of_reviews            21884 non-null  int64         \n",
      " 26  number_of_reviews_ltm        21884 non-null  int64         \n",
      " 27  number_of_reviews_l30d       21884 non-null  int64         \n",
      " 28  review_scores_rating         15428 non-null  float64       \n",
      " 29  review_scores_accuracy       15406 non-null  float64       \n",
      " 30  review_scores_cleanliness    15405 non-null  float64       \n",
      " 31  review_scores_checkin        15401 non-null  float64       \n",
      " 32  review_scores_communication  15405 non-null  float64       \n",
      " 33  review_scores_location       15400 non-null  float64       \n",
      " 34  review_scores_value          15399 non-null  float64       \n",
      " 35  instant_bookable             21884 non-null  bool          \n",
      " 36  reviews_per_month            15428 non-null  float64       \n",
      " 37  amenities_count              21884 non-null  int64         \n",
      " 38  price_baht                   19012 non-null  float64       \n",
      " 39  host_response_percent        18928 non-null  float64       \n",
      " 40  host_acceptance_percent      19392 non-null  float64       \n",
      "dtypes: bool(3), datetime64[ns](1), float64(16), int64(13), object(8)\n",
      "memory usage: 6.6+ MB\n"
     ]
    }
   ],
   "source": [
    "df_listing.info()"
   ]
  },
  {
   "cell_type": "markdown",
   "metadata": {},
   "source": [
    "### Save clean file"
   ]
  },
  {
   "cell_type": "code",
   "execution_count": 73,
   "metadata": {},
   "outputs": [],
   "source": [
    "df_listing.to_parquet(r'Dataload_clean/listing_cleaned.parquet', index = False)"
   ]
  },
  {
   "cell_type": "markdown",
   "metadata": {},
   "source": [
    "## Clean calendar and reviews data"
   ]
  },
  {
   "cell_type": "markdown",
   "metadata": {},
   "source": [
    "### Loading and checking format"
   ]
  },
  {
   "cell_type": "code",
   "execution_count": 74,
   "metadata": {},
   "outputs": [],
   "source": [
    "import pyarrow as pa"
   ]
  },
  {
   "cell_type": "code",
   "execution_count": 13,
   "metadata": {},
   "outputs": [],
   "source": [
    "review = pd.read_parquet(r'C:\\Users\\tamla_f1yewqh\\OneDrive\\Desktop\\Python\\Projects\\Airbnb\\Dataload\\reviews.parquet')"
   ]
  },
  {
   "cell_type": "code",
   "execution_count": 16,
   "metadata": {},
   "outputs": [],
   "source": [
    "calendar = pd.read_parquet(r'C:\\Users\\tamla_f1yewqh\\OneDrive\\Desktop\\Python\\Projects\\Airbnb\\Dataload\\calendar.parquet')"
   ]
  },
  {
   "cell_type": "code",
   "execution_count": null,
   "metadata": {},
   "outputs": [],
   "source": [
    "review.head()"
   ]
  },
  {
   "cell_type": "code",
   "execution_count": null,
   "metadata": {},
   "outputs": [],
   "source": [
    "review.info()"
   ]
  },
  {
   "cell_type": "code",
   "execution_count": 37,
   "metadata": {},
   "outputs": [
    {
     "data": {
      "text/html": [
       "<div>\n",
       "<style scoped>\n",
       "    .dataframe tbody tr th:only-of-type {\n",
       "        vertical-align: middle;\n",
       "    }\n",
       "\n",
       "    .dataframe tbody tr th {\n",
       "        vertical-align: top;\n",
       "    }\n",
       "\n",
       "    .dataframe thead th {\n",
       "        text-align: right;\n",
       "    }\n",
       "</style>\n",
       "<table border=\"1\" class=\"dataframe\">\n",
       "  <thead>\n",
       "    <tr style=\"text-align: right;\">\n",
       "      <th></th>\n",
       "      <th>column0</th>\n",
       "      <th>listing_id</th>\n",
       "      <th>date</th>\n",
       "      <th>available</th>\n",
       "      <th>price</th>\n",
       "      <th>adjusted_price</th>\n",
       "      <th>minimum_nights</th>\n",
       "      <th>maximum_nights</th>\n",
       "    </tr>\n",
       "  </thead>\n",
       "  <tbody>\n",
       "    <tr>\n",
       "      <th>0</th>\n",
       "      <td>0</td>\n",
       "      <td>55681</td>\n",
       "      <td>2024-06-27</td>\n",
       "      <td>False</td>\n",
       "      <td>$1,105.00</td>\n",
       "      <td>None</td>\n",
       "      <td>2.0</td>\n",
       "      <td>365.0</td>\n",
       "    </tr>\n",
       "    <tr>\n",
       "      <th>1</th>\n",
       "      <td>1</td>\n",
       "      <td>55681</td>\n",
       "      <td>2024-06-28</td>\n",
       "      <td>False</td>\n",
       "      <td>$1,105.00</td>\n",
       "      <td>None</td>\n",
       "      <td>2.0</td>\n",
       "      <td>365.0</td>\n",
       "    </tr>\n",
       "    <tr>\n",
       "      <th>2</th>\n",
       "      <td>2</td>\n",
       "      <td>55681</td>\n",
       "      <td>2024-06-29</td>\n",
       "      <td>False</td>\n",
       "      <td>$1,105.00</td>\n",
       "      <td>None</td>\n",
       "      <td>2.0</td>\n",
       "      <td>365.0</td>\n",
       "    </tr>\n",
       "    <tr>\n",
       "      <th>3</th>\n",
       "      <td>3</td>\n",
       "      <td>55681</td>\n",
       "      <td>2024-06-30</td>\n",
       "      <td>False</td>\n",
       "      <td>$1,105.00</td>\n",
       "      <td>None</td>\n",
       "      <td>2.0</td>\n",
       "      <td>365.0</td>\n",
       "    </tr>\n",
       "    <tr>\n",
       "      <th>4</th>\n",
       "      <td>4</td>\n",
       "      <td>55681</td>\n",
       "      <td>2024-07-01</td>\n",
       "      <td>False</td>\n",
       "      <td>$1,105.00</td>\n",
       "      <td>None</td>\n",
       "      <td>2.0</td>\n",
       "      <td>365.0</td>\n",
       "    </tr>\n",
       "  </tbody>\n",
       "</table>\n",
       "</div>"
      ],
      "text/plain": [
       "   column0  listing_id        date  available      price adjusted_price  \\\n",
       "0        0       55681  2024-06-27      False  $1,105.00           None   \n",
       "1        1       55681  2024-06-28      False  $1,105.00           None   \n",
       "2        2       55681  2024-06-29      False  $1,105.00           None   \n",
       "3        3       55681  2024-06-30      False  $1,105.00           None   \n",
       "4        4       55681  2024-07-01      False  $1,105.00           None   \n",
       "\n",
       "   minimum_nights  maximum_nights  \n",
       "0             2.0           365.0  \n",
       "1             2.0           365.0  \n",
       "2             2.0           365.0  \n",
       "3             2.0           365.0  \n",
       "4             2.0           365.0  "
      ]
     },
     "execution_count": 37,
     "metadata": {},
     "output_type": "execute_result"
    }
   ],
   "source": [
    "calendar.head()"
   ]
  },
  {
   "cell_type": "code",
   "execution_count": null,
   "metadata": {},
   "outputs": [],
   "source": [
    "calendar.info()"
   ]
  },
  {
   "cell_type": "code",
   "execution_count": 14,
   "metadata": {},
   "outputs": [],
   "source": [
    "df_review = review.copy()"
   ]
  },
  {
   "cell_type": "code",
   "execution_count": 17,
   "metadata": {},
   "outputs": [],
   "source": [
    "df_calendar = calendar.copy()"
   ]
  },
  {
   "cell_type": "markdown",
   "metadata": {},
   "source": [
    "### Setting requirements"
   ]
  },
  {
   "cell_type": "markdown",
   "metadata": {},
   "source": [
    "A - For review table:\n",
    "- [x] drop column0\n",
    "- [x] convert date into datetime format\n",
    "\n",
    "B - For calendar table:\n",
    "- [x] drop column0\n",
    "- [x] convert price into price_baht\n",
    "- [x] convert date into datetime format\n",
    "- [x] clean adjusted-price\n",
    "\n",
    "C - Other:\n",
    "- [ ] Remove those lines that the listings id are not in listings table (as some listing has been removed at the last step of cleaning listings)"
   ]
  },
  {
   "cell_type": "markdown",
   "metadata": {},
   "source": [
    "### Cleaning process"
   ]
  },
  {
   "cell_type": "code",
   "execution_count": 15,
   "metadata": {},
   "outputs": [],
   "source": [
    "# drop column0 in both table\n",
    "# remove reviewer names and comments column on review\n",
    "df_review = df_review.drop(columns=['column0', 'reviewer_name','comments'])"
   ]
  },
  {
   "cell_type": "code",
   "execution_count": 18,
   "metadata": {},
   "outputs": [],
   "source": [
    "df_calendar = df_calendar.drop('column0', axis=1)"
   ]
  },
  {
   "cell_type": "code",
   "execution_count": 19,
   "metadata": {},
   "outputs": [],
   "source": [
    "# convert datetime format in both table\n",
    "df_calendar['date'] = pd.to_datetime(df_calendar['date'])\n",
    "df_review['date'] = pd.to_datetime(df_review['date'])"
   ]
  },
  {
   "cell_type": "code",
   "execution_count": 20,
   "metadata": {},
   "outputs": [],
   "source": [
    "# conver the price in calendar to local currency\n",
    "df_calendar['price_baht'] = df_calendar['price'].apply(lambda x: x.replace('$','').replace(',','').replace('.00',''))"
   ]
  },
  {
   "cell_type": "code",
   "execution_count": 21,
   "metadata": {},
   "outputs": [],
   "source": [
    "df_calendar['price_baht'] = pd.to_numeric(df_calendar['price_baht'])"
   ]
  },
  {
   "cell_type": "code",
   "execution_count": 22,
   "metadata": {},
   "outputs": [],
   "source": [
    "df_calendar = df_calendar.drop('price',axis = 1)"
   ]
  },
  {
   "cell_type": "code",
   "execution_count": 23,
   "metadata": {},
   "outputs": [
    {
     "name": "stdout",
     "output_type": "stream",
     "text": [
      "<class 'pandas.core.frame.DataFrame'>\n",
      "RangeIndex: 438958 entries, 0 to 438957\n",
      "Data columns (total 4 columns):\n",
      " #   Column       Non-Null Count   Dtype         \n",
      "---  ------       --------------   -----         \n",
      " 0   listing_id   438958 non-null  int64         \n",
      " 1   id           438958 non-null  int64         \n",
      " 2   date         438958 non-null  datetime64[ns]\n",
      " 3   reviewer_id  438958 non-null  int64         \n",
      "dtypes: datetime64[ns](1), int64(3)\n",
      "memory usage: 13.4 MB\n"
     ]
    }
   ],
   "source": [
    "# checking both table\n",
    "df_review.info()"
   ]
  },
  {
   "cell_type": "code",
   "execution_count": 24,
   "metadata": {},
   "outputs": [
    {
     "name": "stdout",
     "output_type": "stream",
     "text": [
      "<class 'pandas.core.frame.DataFrame'>\n",
      "RangeIndex: 8632539 entries, 0 to 8632538\n",
      "Data columns (total 7 columns):\n",
      " #   Column          Dtype         \n",
      "---  ------          -----         \n",
      " 0   listing_id      int64         \n",
      " 1   date            datetime64[ns]\n",
      " 2   available       bool          \n",
      " 3   adjusted_price  object        \n",
      " 4   minimum_nights  float64       \n",
      " 5   maximum_nights  float64       \n",
      " 6   price_baht      float64       \n",
      "dtypes: bool(1), datetime64[ns](1), float64(3), int64(1), object(1)\n",
      "memory usage: 403.4+ MB\n"
     ]
    }
   ],
   "source": [
    "df_calendar.info()"
   ]
  },
  {
   "cell_type": "code",
   "execution_count": 25,
   "metadata": {},
   "outputs": [
    {
     "data": {
      "text/plain": [
       "8632174"
      ]
     },
     "execution_count": 25,
     "metadata": {},
     "output_type": "execute_result"
    }
   ],
   "source": [
    "# check adjusted price in calendar. The adjusted price has mostly null value which is not quite useful, hence it will be droped\n",
    "df_calendar['adjusted_price'].isna().sum()"
   ]
  },
  {
   "cell_type": "code",
   "execution_count": 26,
   "metadata": {},
   "outputs": [],
   "source": [
    "df_calendar = df_calendar.drop('adjusted_price', axis= 1)"
   ]
  },
  {
   "cell_type": "code",
   "execution_count": 75,
   "metadata": {},
   "outputs": [],
   "source": [
    "# clean out listing id that has been removed in listing data by created a column to check whether the listing exits and delete the False value later on\n",
    "df_calendar['listing_to_remove'] = df_calendar['listing_id'].isin(df_listing['id'])"
   ]
  },
  {
   "cell_type": "code",
   "execution_count": 76,
   "metadata": {},
   "outputs": [],
   "source": [
    "# clean out listing id that has been removed in listing data by created a column to check whether the listing exits and delete the False value later on\n",
    "\n",
    "df_review['listing_to_remove'] = df_review['listing_id'].isin(df_listing['id'])"
   ]
  },
  {
   "cell_type": "code",
   "execution_count": 77,
   "metadata": {},
   "outputs": [],
   "source": [
    "# delete false value\n",
    "df_review = df_review[df_review['listing_to_remove']]"
   ]
  },
  {
   "cell_type": "code",
   "execution_count": 78,
   "metadata": {},
   "outputs": [],
   "source": [
    "# delete false value\n",
    "df_calendar = df_calendar[df_calendar['listing_to_remove']]"
   ]
  },
  {
   "cell_type": "code",
   "execution_count": 79,
   "metadata": {},
   "outputs": [],
   "source": [
    "# drop the listing_to_remove in both table\n",
    "df_calendar = df_calendar.drop(columns=['listing_to_remove'])\n",
    "df_review = df_review.drop(columns=['listing_to_remove'])"
   ]
  },
  {
   "cell_type": "code",
   "execution_count": 80,
   "metadata": {},
   "outputs": [
    {
     "data": {
      "text/plain": [
       "15428"
      ]
     },
     "execution_count": 80,
     "metadata": {},
     "output_type": "execute_result"
    }
   ],
   "source": [
    "# check unique value of listing in both table\n",
    "len(df_review['listing_id'].unique())"
   ]
  },
  {
   "cell_type": "code",
   "execution_count": 81,
   "metadata": {},
   "outputs": [
    {
     "data": {
      "text/plain": [
       "21884"
      ]
     },
     "execution_count": 81,
     "metadata": {},
     "output_type": "execute_result"
    }
   ],
   "source": [
    "# the number of listings on calendar now match the number of listings on listing table\n",
    "len(df_calendar['listing_id'].unique())"
   ]
  },
  {
   "cell_type": "markdown",
   "metadata": {},
   "source": [
    "### Save clean files"
   ]
  },
  {
   "cell_type": "code",
   "execution_count": 82,
   "metadata": {},
   "outputs": [],
   "source": [
    "df_review.to_parquet(r'Dataload_clean/review_clean.parquet', index = False)"
   ]
  },
  {
   "cell_type": "code",
   "execution_count": 83,
   "metadata": {},
   "outputs": [],
   "source": [
    "df_calendar.to_parquet(r'Dataload_clean/calendar_clean.parquet', index = False)"
   ]
  }
 ],
 "metadata": {
  "kernelspec": {
   "display_name": "airbnb",
   "language": "python",
   "name": "python3"
  },
  "language_info": {
   "codemirror_mode": {
    "name": "ipython",
    "version": 3
   },
   "file_extension": ".py",
   "mimetype": "text/x-python",
   "name": "python",
   "nbconvert_exporter": "python",
   "pygments_lexer": "ipython3",
   "version": "3.12.4"
  }
 },
 "nbformat": 4,
 "nbformat_minor": 2
}
