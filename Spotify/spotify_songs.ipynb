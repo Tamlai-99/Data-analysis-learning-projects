{
 "cells": [
  {
   "cell_type": "code",
   "execution_count": 2,
   "metadata": {},
   "outputs": [],
   "source": [
    "# import libraries\n",
    "import pandas as pd\n",
    "import numpy as np"
   ]
  },
  {
   "cell_type": "code",
   "execution_count": null,
   "metadata": {},
   "outputs": [],
   "source": [
    "# loading data from CSV file\n",
    "df = pd.read_csv('./spotify_tracks.csv')\n",
    "df = df.rename_axis(\"s_id\",axis=0)"
   ]
  },
  {
   "cell_type": "code",
   "execution_count": 90,
   "metadata": {},
   "outputs": [],
   "source": [
    "# create list of genre\n",
    "genre = pd.Series(df['genre'].unique(),name='genre')\n",
    "genre.index = range(1, len(genre)+1)\n",
    "genre = genre.rename_axis(\"id\",axis=0)"
   ]
  },
  {
   "cell_type": "code",
   "execution_count": null,
   "metadata": {},
   "outputs": [],
   "source": [
    "# return list of songs from selected genre and artist\n",
    "def get_song():\n",
    "    tuple_list = get_artist()\n",
    "    song_list = df[(df['artists'] == tuple_list[0]) & (df['genre'] == tuple_list[1])][['genre','artists','name','album']]\n",
    "    pd.set_option('display.max_rows', None)\n",
    "    print(song_list)\n",
    "    while True:\n",
    "        try:\n",
    "            song_choice = int(input('Select your song by id or press 0 for other recommendations '))\n",
    "            if song_choice in song_list.index.to_list():\n",
    "                print(\"Now playing\", song_list.loc[song_choice,'name'], \"by\", song_list.loc[song_choice,'artists'])\n",
    "                break\n",
    "            elif song_choice == 0:\n",
    "                user_choice()\n",
    "                break\n",
    "        except (ValueError,NameError):\n",
    "            print(\"Please select by song_id or press 0\")\n",
    "            continue"
   ]
  },
  {
   "cell_type": "code",
   "execution_count": 89,
   "metadata": {},
   "outputs": [],
   "source": [
    "# return all artists in chosen genre\n",
    "def get_artist():\n",
    "    artist_by_genre = df[['genre','artists']].drop_duplicates()\n",
    "    artist_by_genre.index = range(1,len(artist_by_genre) + 1)\n",
    "    artist_by_genre = artist_by_genre.rename_axis(\"artist_genre_id\",axis=0)\n",
    "    artist_by_genre = artist_by_genre[artist_by_genre['genre'] == user_choice()]\n",
    "    while True:\n",
    "        pd.set_option('display.max_rows', None)\n",
    "        print(artist_by_genre)\n",
    "        try:\n",
    "            artist_choice = int(input('Select your artist by id or press 0 for other recommendations '))\n",
    "            if artist_choice in artist_by_genre.index.to_list():\n",
    "                a = artist_by_genre.loc[artist_choice, 'artists']\n",
    "                g = artist_by_genre.loc[artist_choice, 'genre']\n",
    "                return a, g\n",
    "            elif artist_choice == 0:\n",
    "                user_choice()\n",
    "                break\n",
    "        except (ValueError,NameError):\n",
    "            print(\"Please select by artist_id or press 0\")\n",
    "            continue"
   ]
  },
  {
   "cell_type": "code",
   "execution_count": null,
   "metadata": {},
   "outputs": [],
   "source": [
    "# ask user whether they want to select or reccommend a genre\n",
    "def user_choice():\n",
    "    choice = pd.Series({0: 'recommendation', 1: 'self selection'})\n",
    "    while True:\n",
    "        for index, value in choice.items():\n",
    "            print(f\"{index}    {value}\")\n",
    "        try:\n",
    "            user = int(input('Please choose your option: '))\n",
    "            if user == 0:\n",
    "                return get_genre(genre.sample(10))\n",
    "            elif user == 1:\n",
    "                return get_genre(genre)\n",
    "            else:\n",
    "                print('Please select 0 or 1')\n",
    "                continue\n",
    "        except (ValueError, NameError):\n",
    "            print('Please select 0 or 1 ')\n",
    "            continue"
   ]
  },
  {
   "cell_type": "code",
   "execution_count": null,
   "metadata": {},
   "outputs": [],
   "source": [
    "# prompting user with random list and ask for selection\n",
    "def get_genre(gen_list):\n",
    "    while True:\n",
    "        print(gen_list.to_string())\n",
    "        try:\n",
    "            selection = int(input('What genre you want to listen to? Press 0 for other recommendations '))\n",
    "            if selection in gen_list.index.to_list():\n",
    "                return genre[selection]\n",
    "            elif selection == 0:\n",
    "                gen_list = genre.sample(10)\n",
    "                continue\n",
    "            else:\n",
    "                print('Please select a genre from the list below or press 0 for other recommendations ')\n",
    "                continue\n",
    "        except ValueError:\n",
    "            print('Please select a genre by id')\n",
    "            continue"
   ]
  },
  {
   "cell_type": "code",
   "execution_count": null,
   "metadata": {},
   "outputs": [],
   "source": [
    "if __name__=='__get_song__':\n",
    "    get_song()"
   ]
  }
 ],
 "metadata": {
  "kernelspec": {
   "display_name": "spotify",
   "language": "python",
   "name": "python3"
  },
  "language_info": {
   "codemirror_mode": {
    "name": "ipython",
    "version": 3
   },
   "file_extension": ".py",
   "mimetype": "text/x-python",
   "name": "python",
   "nbconvert_exporter": "python",
   "pygments_lexer": "ipython3",
   "version": "3.12.4"
  }
 },
 "nbformat": 4,
 "nbformat_minor": 2
}
